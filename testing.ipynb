{
 "cells": [
  {
   "cell_type": "code",
   "execution_count": 1,
   "id": "d73f2ce6",
   "metadata": {},
   "outputs": [
    {
     "name": "stdout",
     "output_type": "stream",
     "text": [
      "tensor(3.2414)\n"
     ]
    }
   ],
   "source": [
    "import torch\n",
    "\n",
    "BS = 5\n",
    "n_classes = 3\n",
    "tx = torch.randn(BS, n_classes)\n",
    "ty = torch.zeros(BS, n_classes)\n",
    "ty[0, 1] = -3\n",
    "ty[1, 0] = -3\n",
    "ty[2, 2] = -3\n",
    "ty[3, 2] = -3\n",
    "ty[4, 0] = -3\n",
    "\n",
    "def logsoftmax(x):\n",
    "    return x - x.exp().sum().log()\n",
    "\n",
    "def nll(pred, target):\n",
    "    return pred.mul(target).mean()\n",
    "\n",
    "tpred = logsoftmax(tx)\n",
    "tloss = nll(tpred, ty)\n",
    "print(tloss.data)"
   ]
  },
  {
   "cell_type": "code",
   "execution_count": 2,
   "id": "283e5eaf",
   "metadata": {},
   "outputs": [
    {
     "name": "stdout",
     "output_type": "stream",
     "text": [
      "[[0.8425]]\n",
      "[[0.8425]]\n"
     ]
    },
    {
     "ename": "AttributeError",
     "evalue": "'numpy.ndarray' object has no attribute 'expand'",
     "output_type": "error",
     "traceback": [
      "\u001b[0;31m---------------------------------------------------------------------------\u001b[0m",
      "\u001b[0;31mAttributeError\u001b[0m                            Traceback (most recent call last)",
      "Input \u001b[0;32mIn [2]\u001b[0m, in \u001b[0;36m<module>\u001b[0;34m\u001b[0m\n\u001b[1;32m     13\u001b[0m \u001b[38;5;28mprint\u001b[39m(loss\u001b[38;5;241m.\u001b[39mdata)\n\u001b[1;32m     14\u001b[0m \u001b[38;5;28mprint\u001b[39m(l\u001b[38;5;241m.\u001b[39mdata)\n\u001b[0;32m---> 15\u001b[0m \u001b[43mloss\u001b[49m\u001b[38;5;241;43m.\u001b[39;49m\u001b[43mbackward\u001b[49m\u001b[43m(\u001b[49m\u001b[43m)\u001b[49m\n\u001b[1;32m     16\u001b[0m get_ipython()\u001b[38;5;241m.\u001b[39msystem(\u001b[38;5;124m'\u001b[39m\u001b[38;5;124m'\u001b[39m)\n",
      "File \u001b[0;32m~/Coding/autograd/autograd/tensor.py:76\u001b[0m, in \u001b[0;36mTensor.backward\u001b[0;34m(self, allow_fill)\u001b[0m\n\u001b[1;32m     73\u001b[0m     \u001b[38;5;28;01mcontinue\u001b[39;00m\n\u001b[1;32m     75\u001b[0m tensor\u001b[38;5;241m.\u001b[39mgrad \u001b[38;5;241m=\u001b[39m gradient\n\u001b[0;32m---> 76\u001b[0m \u001b[43mtensor\u001b[49m\u001b[38;5;241;43m.\u001b[39;49m\u001b[43mbackward\u001b[49m\u001b[43m(\u001b[49m\u001b[43mallow_fill\u001b[49m\u001b[38;5;241;43m=\u001b[39;49m\u001b[38;5;28;43;01mFalse\u001b[39;49;00m\u001b[43m)\u001b[49m\n",
      "File \u001b[0;32m~/Coding/autograd/autograd/tensor.py:68\u001b[0m, in \u001b[0;36mTensor.backward\u001b[0;34m(self, allow_fill)\u001b[0m\n\u001b[1;32m     65\u001b[0m     \u001b[38;5;28mself\u001b[39m\u001b[38;5;241m.\u001b[39mgrad \u001b[38;5;241m=\u001b[39m np\u001b[38;5;241m.\u001b[39mones_like(\u001b[38;5;28mself\u001b[39m\u001b[38;5;241m.\u001b[39mdata)\n\u001b[1;32m     67\u001b[0m parents \u001b[38;5;241m=\u001b[39m \u001b[38;5;28mself\u001b[39m\u001b[38;5;241m.\u001b[39m_ctx\u001b[38;5;241m.\u001b[39mparents\n\u001b[0;32m---> 68\u001b[0m gradients \u001b[38;5;241m=\u001b[39m \u001b[38;5;28;43mself\u001b[39;49m\u001b[38;5;241;43m.\u001b[39;49m\u001b[43m_ctx\u001b[49m\u001b[38;5;241;43m.\u001b[39;49m\u001b[43mbackward\u001b[49m\u001b[43m(\u001b[49m\u001b[38;5;28;43mself\u001b[39;49m\u001b[38;5;241;43m.\u001b[39;49m\u001b[43mgrad\u001b[49m\u001b[43m)\u001b[49m\n\u001b[1;32m     69\u001b[0m gradients \u001b[38;5;241m=\u001b[39m [gradients] \u001b[38;5;28;01mif\u001b[39;00m \u001b[38;5;28mlen\u001b[39m(parents) \u001b[38;5;241m==\u001b[39m \u001b[38;5;241m1\u001b[39m \u001b[38;5;28;01melse\u001b[39;00m gradients\n\u001b[1;32m     71\u001b[0m \u001b[38;5;28;01mfor\u001b[39;00m tensor, gradient \u001b[38;5;129;01min\u001b[39;00m \u001b[38;5;28mzip\u001b[39m(parents, gradients):\n",
      "File \u001b[0;32m~/Coding/autograd/autograd/ops.py:74\u001b[0m, in \u001b[0;36mSum.backward\u001b[0;34m(self, prev_grad)\u001b[0m\n\u001b[1;32m     72\u001b[0m \u001b[38;5;28;01mdef\u001b[39;00m \u001b[38;5;21mbackward\u001b[39m(\u001b[38;5;28mself\u001b[39m, prev_grad):\n\u001b[1;32m     73\u001b[0m     shape, \u001b[38;5;241m=\u001b[39m \u001b[38;5;28mself\u001b[39m\u001b[38;5;241m.\u001b[39msaved_tensors\n\u001b[0;32m---> 74\u001b[0m     \u001b[38;5;28;01mreturn\u001b[39;00m \u001b[43mprev_grad\u001b[49m\u001b[38;5;241;43m.\u001b[39;49m\u001b[43mexpand\u001b[49m(shape)\n",
      "\u001b[0;31mAttributeError\u001b[0m: 'numpy.ndarray' object has no attribute 'expand'"
     ]
    }
   ],
   "source": [
    "from autograd.tensor import Tensor\n",
    "from autograd.losses import NLLLoss, CategoricalCrossEntropy\n",
    "import numpy as np\n",
    "\n",
    "criterion = NLLLoss()\n",
    "crit = CategoricalCrossEntropy()\n",
    "x = Tensor(tx.detach().numpy())\n",
    "y = Tensor(ty.detach().numpy())\n",
    "\n",
    "pred = x.logsoftmax()\n",
    "loss = criterion(pred, y)\n",
    "l = crit(pred, np.array([1, 0, 2, 2, 0]))\n",
    "print(loss.data)\n",
    "print(l.data)\n",
    "loss.backward()\n",
    "!"
   ]
  },
  {
   "cell_type": "code",
   "execution_count": null,
   "id": "de219aac",
   "metadata": {},
   "outputs": [],
   "source": []
  }
 ],
 "metadata": {
  "kernelspec": {
   "display_name": "Python 3 (ipykernel)",
   "language": "python",
   "name": "python3"
  },
  "language_info": {
   "codemirror_mode": {
    "name": "ipython",
    "version": 3
   },
   "file_extension": ".py",
   "mimetype": "text/x-python",
   "name": "python",
   "nbconvert_exporter": "python",
   "pygments_lexer": "ipython3",
   "version": "3.9.7"
  }
 },
 "nbformat": 4,
 "nbformat_minor": 5
}
