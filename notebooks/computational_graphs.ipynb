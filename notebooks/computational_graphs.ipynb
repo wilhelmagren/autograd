{
 "cells": [
  {
   "cell_type": "markdown",
   "id": "8fbdb706",
   "metadata": {},
   "source": [
    "# Introduction to computational graphs for deep learning\n",
    "This interactive notebook will present some of the basic concepts that state-of-the-art deep learning frameworks like PyTorch and Tensorflow are built upon. The reader is expected to have adequate theoretical and practical knowledge regarding multivariable calculus and probabilistic methods. Furthermore, after going through this notebook I am confident that the reader can implement a small-scale library themselfs, which implements the process of graph building and automatic calculation of the analytical gradient for a deep learning model!\n"
   ]
  },
  {
   "cell_type": "markdown",
   "id": "c77eca54",
   "metadata": {},
   "source": [
    "### Background\n",
    "*Feedforward* artificial neural networks (ANN) can be regarded as a collection of perceptrons (nodes) that each belong to  a respective layer that depend on some previous input to yield a response. A standard one-layer ANN usually performs the mapping $y = h(x)$ where $h(x) = Wx + b$ and $W$ are the learnable weights of each respective node $w_{ij}$ and $b$ is a learnable bias. A multi-layer ANN (MLP) on the other hand performs a multitude of these mappings, and can thus be formalized as $y = h_n(h_{n-1}(...(h_1(x)))$. Because of the depth of layers dependent on each other MLPs require the *backpropagation* algorithm to calculate the gradients of the weights $W$. Furthermore, if there are no non-linear activations between the layers of an MLP, it can always be summarized as a single-layer ANN. Therefore, an *activation function* has to be applied after the outputs of a layer. Two great historical alternatives are the sigmoid function $\\sigma$ and the hypoerbolic tangent function $tanh$\n",
    "\n",
    ">$\\large \\sigma(x) = \\frac{1}{1 + e^{-x}}$<br>$\\large tanh(x) = \\frac{e^x - e^{-x}}{e^x + e^{-x}}$\n",
    "\n",
    "In modern day frameworks the backpropagation algorithm is implemented by means of computational graphs. These are formally defined as directed acyclic graphs (DAG) that directly follow the process from an input $x$ to output $y$ mapped by the model $f$. The DAG is precisely what it sounds like, a directed graph with no cycles. If there were cycles, then the backpropagation algorithm would never terminate as there would always be a next layer to calculate the gradient based on.\n"
   ]
  },
  {
   "cell_type": "markdown",
   "id": "b320153b",
   "metadata": {},
   "source": [
    "### Backpropagation\n",
    "In a supervised learning context one can always measure some form of error or loss of the network after performing inference. \n"
   ]
  },
  {
   "cell_type": "markdown",
   "id": "a5f175d2",
   "metadata": {},
   "source": [
    "### Constructing the DAG and performing the forward pass\n",
    "The *forward pass* specifies walking through the DAG in the true direction of the graph, practically meaning, from input to output. Let's start with a simple example. We want to perform the affine transform $y = f(x)$ where $f(x) = Wx + b$. Visually, this can be represented by the DAG below\n"
   ]
  },
  {
   "cell_type": "markdown",
   "id": "c9cf5793",
   "metadata": {},
   "source": [
    "\n",
    "![DAG1.svg](../images/DAG1.svg)\n"
   ]
  },
  {
   "cell_type": "markdown",
   "id": "9ed1d9b5",
   "metadata": {},
   "source": [
    "Here we denote the result of the operation $Wx$ as $g$, since we need a way to represent all intermediate step. Lets now assume that we are in a supervised learning context and we know the true value to $y$ which is $y'$ and we want to measure the loss $L$ by taking their difference according to $L = y' - y$. Then the entire DAG from input $x$ to final loss $L$ with all intermediate steps can be represented as\n"
   ]
  },
  {
   "cell_type": "markdown",
   "id": "d763b0fc",
   "metadata": {},
   "source": [
    "![DAG2.svg](../images/DAG2.svg)"
   ]
  },
  {
   "cell_type": "markdown",
   "id": "1ae76d56",
   "metadata": {},
   "source": [
    "### Performing the backward pass in the DAG \n",
    "Lets assume we got a large loss, indicating that our prediction was incorrect and thus we want to update our weight $W$ and bias $b$ of the model. The steps of the *backward pass* is in accordance with the backpropagation algorithm, where the the gradient of the loss $L$ is calculated based on the paramater and multiplied with the previous layers nodes output. The first step thus becomes to calculate the gradient of the loss, with respect to the loss\n",
    "\n",
    ">$\\large \\frac{\\partial L}{\\partial L} = 1$\n",
    "\n",
    "which ofcourse is always equal to 1. The second step is to find the gradient of the operation that gave us the loss $L = y' - y$, and this yields the gradients\n",
    "\n",
    ">$\\large \\frac{\\partial L}{\\partial y'} = 1$<br>$\\large \\frac{\\partial L}{\\partial y} = -1$\n",
    "\n",
    "continuing with the backwards pass we come to the operation $y = g + b$. Here we can utilize the chain-rule to calculate the gradient of $g$ and $b$ respectively, since we already know the gradient of the loss with respect to $y$,\n",
    "\n",
    ">$\\large \\frac{\\partial L}{\\partial g} = \\frac{\\partial L}{\\partial y}*\\frac{\\partial y}{\\partial g} = -1 * \\frac{\\partial y}{\\partial g} = -1 * 1$<br>$\\large \\frac{\\partial L}{\\partial b} = \\frac{\\partial L}{\\partial y}*\\frac{\\partial y}{\\partial b} = -1*\\frac{\\partial y}{\\partial b} = -1 * 1$\n",
    "\n",
    "Already at this point we can see the beauty and simplicity of the DAG in a backpropagation scenario. Instead of working with all neurons of a layer directly, they are summarized as a parameter and their operation on the input is represented as a node in the DAG. It becomes intuitive to watch the gradient flowing backwards through the model, utilizing the chain-rule to analytically calculate the gradients of each node in a sequential manner. Anyway, lets continue with our backwards pass. Now that we know the gradient of the loss $L$ with respect to $g$, we can find the gradient of the weight parameter $W$ for our model. Similarly as in the previous steps, utilizing the chain-rule, this becomes\n",
    "\n",
    ">$\\large \\frac{\\partial L}{\\partial W} = \\frac{\\partial L}{\\partial y}*\\frac{\\partial y}{\\partial g}*\\frac{\\partial g}{\\partial W} = -1 * 1 * \\frac{\\partial g}{\\partial W} = -1 * 1 * x$<br>$\\large \\frac{\\partial L}{\\partial x} = \\frac{\\partial L}{\\partial y}*\\frac{\\partial y}{\\partial g}*\\frac{\\partial g}{\\partial x} = -1 * 1 * \\frac{\\partial g}{\\partial x} = -1 * 1 * W$\n",
    "\n",
    "and we have analytically found the two gradients that we require to update our model parameters $W$ and $b$ such that our next prediction would yield a smaller loss! Even though we calculate gradients of the loss with respect to all variables involved in the DAG it is not always the case that we want to, or even should, update them. For example, in this backward pass process we accumulate gradients for both $x$ and $y'$, but these are constant data that we are trying to map with our model parameters. Thus, we do **not** want to update their initial values based on their respective gradients. So when implementing the DAG and backward pass, pay close attention to what variables you are applying the gradient to...\n",
    "\n",
    "The DAG with respective gradients in green can be seen below (in case the math wasn't very informative...)\n",
    "\n",
    "![DAG3.svg](../images/DAG3.svg)\n",
    "\n",
    "This is pretty much all the theory you need to implement your own autograd library! Below is an extremely barebones implementation of a single-layer feedforward ANN that is trained to predict the values of a vector. This is performed by means of minizing the mean squared error and applying gradient updates with stochastic gradient descent (SGD). "
   ]
  },
  {
   "cell_type": "code",
   "execution_count": 1,
   "id": "cc473116",
   "metadata": {},
   "outputs": [],
   "source": [
    "\"\"\"\n",
    "The tensor class we are building for the DAG construction holds a data attribute which are of type np.ndarray,\n",
    "apart from that, no other libraries are requires. Partialfunction is used to freeze the ops classes after being\n",
    "used on some data, such that the tensors of interest can be saved and used for analytical gradient computation.\n",
    "\"\"\"\n",
    "import numpy as np\n",
    "import matplotlib.pyplot as plt\n",
    "from functools import partialmethod"
   ]
  },
  {
   "cell_type": "code",
   "execution_count": 2,
   "id": "58c9b06d",
   "metadata": {},
   "outputs": [],
   "source": [
    "class Tensor(object):\n",
    "    def __init__(self, data, requires_grad=True):\n",
    "        self.requires_grad = requires_grad\n",
    "        self.grad = None\n",
    "        self._ctx = None\n",
    "        \n",
    "        if isinstance(data, list):\n",
    "            data = np.array(data, dtype=np.float32)\n",
    "        elif isinstance(data, np.float32):\n",
    "            data = np.array(data, dtype=np.float32)\n",
    "        \n",
    "        self.data = data\n",
    "    \n",
    "    def __repr__(self):\n",
    "        return f'<tensor.Tensor {self.data}, grad={self.grad}, _ctx={self._ctx}>'\n",
    "    \n",
    "    def backward(self, allow_fill=True):\n",
    "        if self._ctx is None:\n",
    "            return\n",
    "        \n",
    "        if self.grad is None and allow_fill:\n",
    "            self.grad = np.ones_like(self.data)\n",
    "        \n",
    "        gradients = self._ctx.backward(self._ctx, self.grad)\n",
    "        gradients = [gradients] if len(self._ctx.parents) == 1 else gradients\n",
    "        for tensor, gradient in zip(self._ctx.parents, gradients):\n",
    "            if gradient is None:\n",
    "                continue\n",
    "                \n",
    "            tensor.grad = gradient\n",
    "            tensor.backward(allow_fill=False)\n",
    "    \n",
    "    @property\n",
    "    def shape(self):\n",
    "        return self.data.shape\n",
    "    \n",
    "    @property\n",
    "    def dtype(self):\n",
    "        return self.data.dtype\n",
    "    \n",
    "    @classmethod\n",
    "    def uniform(cls, *shape, **kwargs):\n",
    "        return cls(np.random.uniform(-1., 1., size=shape)\n",
    "                   / np.sqrt(np.prod(shape)).astype(np.float32), **kwargs)\n",
    "    \n",
    "    def mean(self):\n",
    "        div = Tensor(np.array([1 / self.data.size], dtype=self.data.dtype))\n",
    "        return self.sum().mul(div)\n"
   ]
  },
  {
   "cell_type": "code",
   "execution_count": 3,
   "id": "c5fe18ca",
   "metadata": {},
   "outputs": [],
   "source": [
    "class Function(object):\n",
    "    def __init__(self, *tensors):\n",
    "        self.parents = tensors\n",
    "        self.saved_tensors = []\n",
    "        self.requires_grad = any([tensor.requires_grad for tensor in tensors])\n",
    "    \n",
    "    def save_for_backward(self, *x):\n",
    "        self.saved_tensors.extend(x)\n",
    "    \n",
    "    def apply(self, arg, *x):\n",
    "        ctx = arg(self, *x)\n",
    "        output = Tensor(arg.forward(ctx, self.data, *[tensor.data for tensor in x]))\n",
    "        output._ctx = ctx\n",
    "        return output\n",
    "\n",
    "\n",
    "class Add(Function):\n",
    "    @staticmethod\n",
    "    def forward(self, x, y):\n",
    "        return x + y\n",
    "    \n",
    "    @staticmethod\n",
    "    def backward(self, grad_out):\n",
    "        return grad_out, grad_out\n",
    "\n",
    "\n",
    "class Mul(Function):\n",
    "    @staticmethod\n",
    "    def forward(self, x, y):\n",
    "        self.save_for_backward(x, y)\n",
    "        return x * y\n",
    "    \n",
    "    @staticmethod\n",
    "    def backward(self, grad_out):\n",
    "        x, y = self.saved_tensors\n",
    "        return y * grad_out, x * grad_out\n",
    "\n",
    "\n",
    "class Sub(Function):\n",
    "    @staticmethod\n",
    "    def forward(self, x, y):\n",
    "        return x - y\n",
    "    \n",
    "    @staticmethod\n",
    "    def backward(self, grad_out):\n",
    "        return grad_out, -grad_out\n",
    "\n",
    "    \n",
    "class Sum(Function):\n",
    "    @staticmethod\n",
    "    def forward(self, x):\n",
    "        self.save_for_backward(x)\n",
    "        return np.array([x.sum()])\n",
    "    \n",
    "    @staticmethod\n",
    "    def backward(self, grad_out):\n",
    "        x, = self.saved_tensors\n",
    "        return grad_out * np.ones_like(x)\n",
    "\n",
    "\n",
    "__allops__ = {\n",
    "    'add': Add,\n",
    "    'mul': Mul,\n",
    "    'sub': Sub,\n",
    "    'sum': Sum\n",
    "}\n",
    "\n",
    "\n",
    "def register_all():\n",
    "    for name, func in __allops__.items():\n",
    "        setattr(Tensor, name, partialmethod(func.apply, func))"
   ]
  },
  {
   "cell_type": "code",
   "execution_count": 4,
   "id": "93e7fe25",
   "metadata": {},
   "outputs": [
    {
     "data": {
      "image/png": "[encoded data removed]",
      "text/plain": [
       "<Figure size 432x288 with 1 Axes>"
      ]
     },
     "metadata": {
      "needs_background": "light"
     },
     "output_type": "display_data"
    }
   ],
   "source": [
    "np.random.seed(98)\n",
    "register_all()\n",
    "\n",
    "history = []\n",
    "learning_rate = 0.1\n",
    "x = Tensor([.5, .1, -.7], requires_grad=False)\n",
    "W = Tensor.uniform(3)\n",
    "b = Tensor([1.])\n",
    "y_true = Tensor([-1., .7, -.5], requires_grad=False)\n",
    "\n",
    "# Perform a couple of forward pass specified by the DAG\n",
    "# and perform SGD optimizer update on W and b\n",
    "for _ in range(100):\n",
    "    # get output prediction y\n",
    "    g = x.mul(W)\n",
    "    y = g.add(b)\n",
    "    # calculate MSE\n",
    "    error = y_true.sub(y)\n",
    "    loss = error.mul(error).mean()\n",
    "    loss.backward()\n",
    "    history.append(loss.data)\n",
    "\n",
    "    W.data = W.data - learning_rate * W.grad\n",
    "    b.data = b.data - learning_rate * b.grad\n",
    "\n",
    "plt.plot(history) \n",
    "!"
   ]
  }
 ],
 "metadata": {
  "kernelspec": {
   "display_name": "Python 3 (ipykernel)",
   "language": "python",
   "name": "python3"
  },
  "language_info": {
   "codemirror_mode": {
    "name": "ipython",
    "version": 3
   },
   "file_extension": ".py",
   "mimetype": "text/x-python",
   "name": "python",
   "nbconvert_exporter": "python",
   "pygments_lexer": "ipython3",
   "version": "3.9.7"
  }
 },
 "nbformat": 4,
 "nbformat_minor": 5
}
