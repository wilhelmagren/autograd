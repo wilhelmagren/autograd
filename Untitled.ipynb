{
 "cells": [
  {
   "cell_type": "code",
   "execution_count": 10,
   "metadata": {},
   "outputs": [
    {
     "name": "stdout",
     "output_type": "stream",
     "text": [
      "<autograd.Tensor\n",
      "[3.]\n",
      "dtype=float32, grad_fn=None, grad=None>\n",
      "<autograd.Tensor\n",
      "[2.]\n",
      "dtype=float32, grad_fn=None, grad=None>\n",
      "<autograd.Tensor\n",
      "[6.]\n",
      "dtype=float32, grad_fn=<autograd.ops.Dot>, grad=None>\n",
      "<autograd.Tensor\n",
      "[5.]\n",
      "dtype=float32, grad_fn=<autograd.ops.Add>, grad=None>\n",
      "3.0\n",
      "[1.]\n",
      "None\n",
      "[1.]\n"
     ]
    }
   ],
   "source": [
    "from autograd import Tensor\n",
    "\n",
    "x = Tensor([3], requires_grad=False)\n",
    "W = Tensor([2])\n",
    "b = Tensor([-1])\n",
    "\n",
    "g = x.dot(W)\n",
    "y = g.add(b)\n",
    "\n",
    "y.backward()"
   ]
  },
  {
   "cell_type": "code",
   "execution_count": null,
   "metadata": {},
   "outputs": [],
   "source": []
  }
 ],
 "metadata": {
  "kernelspec": {
   "display_name": "Python 3",
   "language": "python",
   "name": "python3"
  },
  "language_info": {
   "codemirror_mode": {
    "name": "ipython",
    "version": 3
   },
   "file_extension": ".py",
   "mimetype": "text/x-python",
   "name": "python",
   "nbconvert_exporter": "python",
   "pygments_lexer": "ipython3",
   "version": "3.8.5"
  }
 },
 "nbformat": 4,
 "nbformat_minor": 4
}
