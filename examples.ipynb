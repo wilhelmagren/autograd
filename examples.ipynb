{
 "cells": [
  {
   "cell_type": "code",
   "execution_count": 1,
   "metadata": {},
   "outputs": [],
   "source": [
    "%matplotlib inline\n",
    "import numpy as np\n",
    "import matplotlib.pyplot as plt\n",
    "\n",
    "from autograd.tensor import Tensor\n",
    "from autograd.tensor import Function\n",
    "from autograd.datautil import fetch_mnist\n",
    "from tqdm import tqdm\n",
    "plt.style.use('seaborn-deep')\n",
    "__plot__ = False"
   ]
  },
  {
   "cell_type": "code",
   "execution_count": 2,
   "metadata": {
    "scrolled": true
   },
   "outputs": [
    {
     "name": "stdout",
     "output_type": "stream",
     "text": [
      "[1. 1. 1.]\n",
      "[0.2 1.  5.3]\n",
      "<autograd.tensor.Tensor:\n",
      "6.5 device=CPU _ctx=Dot grad=1.0>\n"
     ]
    }
   ],
   "source": [
    "x = Tensor([.2, 1., 5.3], device='cpu', requires_grad=True)\n",
    "w = Tensor.ones(3, device='cuda', requires_grad=True)\n",
    "\n",
    "z = x.dot(w)\n",
    "z.backward()\n",
    "\n",
    "print(x.grad)\n",
    "print(w.grad)\n",
    "print(z)"
   ]
  },
  {
   "cell_type": "code",
   "execution_count": 10,
   "metadata": {},
   "outputs": [],
   "source": [
    "class Net:\n",
    "    def __init__(self):\n",
    "        self.l1 = Tensor.uniform(784, 128, requires_grad=True)\n",
    "        self.l2 = Tensor.uniform(128, 10, requires_grad=True)\n",
    "    \n",
    "    def __call__(self, x):\n",
    "        return self.forward(x)\n",
    "\n",
    "    def forward(self, x):\n",
    "        x = x.dot(self.l1)\n",
    "        x = x.relu()\n",
    "        x = x.dot(self.l2)\n",
    "        x = x.logsoftmax()\n",
    "        return x\n",
    "    \n"
   ]
  },
  {
   "cell_type": "code",
   "execution_count": 4,
   "metadata": {},
   "outputs": [
    {
     "name": "stdout",
     "output_type": "stream",
     "text": [
      "http://yann.lecun.com/exdb/mnist/train-images-idx3-ubyte.gz already exists, loading it...\n",
      "http://yann.lecun.com/exdb/mnist/train-labels-idx1-ubyte.gz already exists, loading it...\n",
      "http://yann.lecun.com/exdb/mnist/t10k-images-idx3-ubyte.gz already exists, loading it...\n",
      "http://yann.lecun.com/exdb/mnist/t10k-labels-idx1-ubyte.gz already exists, loading it...\n"
     ]
    }
   ],
   "source": [
    "X_train, Y_train, X_test, Y_test = fetch_mnist()"
   ]
  },
  {
   "cell_type": "code",
   "execution_count": 5,
   "metadata": {},
   "outputs": [],
   "source": [
    "if __plot__:\n",
    "    G = 10\n",
    "    fig, axs = plt.subplots(G, G, figsize=(20, 20))\n",
    "    for x in range(G):\n",
    "        for y in range(G):\n",
    "            item = x*G + y\n",
    "            axs[x, y].imshow(X_train[item, :])\n",
    "            axs[x, y].axis('off')"
   ]
  },
  {
   "cell_type": "code",
   "execution_count": 28,
   "metadata": {},
   "outputs": [
    {
     "name": "stderr",
     "output_type": "stream",
     "text": [
      "100%|████████████████████████████████████████████████████████████████████████████████████████████████████████████████████████████████████████████████████████████████████████| 10/10 [00:00<00:00, 78.26it/s]"
     ]
    },
    {
     "name": "stdout",
     "output_type": "stream",
     "text": [
      "[0.25800889]\n",
      "[31479.45]\n",
      "[0.24475594]\n",
      "[0.23025851]\n",
      "[0.23024199]\n",
      "[0.23025851]\n",
      "[0.23025851]\n",
      "[0.23025851]\n",
      "[0.23025851]\n",
      "[0.23025851]\n"
     ]
    },
    {
     "name": "stderr",
     "output_type": "stream",
     "text": [
      "\n"
     ]
    }
   ],
   "source": [
    "# SGD training\n",
    "batchsize = 128\n",
    "eta = 0.001\n",
    "epochs = 10\n",
    "model = Net()\n",
    "\n",
    "for epoch in tqdm(range(epochs)):\n",
    "    samples = np.random.randint(0, X_train.shape[0], size=(batchsize))\n",
    "    points = Tensor(X_train[samples].reshape((-1, 28*28)), requires_grad=True)\n",
    "    Y = Y_train[samples]\n",
    "    labels = np.zeros((batchsize, 10), np.float32)\n",
    "    labels[range(batchsize), Y] = -1.0\n",
    "    labels = Tensor(labels)\n",
    "    \n",
    "    output = model(points)\n",
    "    output = output.mul(labels)\n",
    "    output = output.mean()\n",
    "    output.backward()\n",
    "    \n",
    "    loss = output.data\n",
    "    print(loss)\n",
    "    \n",
    "    #print(model.l1.grad)\n",
    "    #print(model.l2.grad)\n",
    "    \n",
    "    model.l2.data = model.l2.data - eta*model.l2.grad\n",
    "    model.l1.data = model.l1.data - eta*model.l1.grad\n",
    "    \n",
    "    model.l1.grad = None\n",
    "    model.l2.grad = None"
   ]
  },
  {
   "cell_type": "code",
   "execution_count": null,
   "metadata": {},
   "outputs": [],
   "source": []
  }
 ],
 "metadata": {
  "kernelspec": {
   "display_name": "Python 3 (ipykernel)",
   "language": "python",
   "name": "python3"
  },
  "language_info": {
   "codemirror_mode": {
    "name": "ipython",
    "version": 3
   },
   "file_extension": ".py",
   "mimetype": "text/x-python",
   "name": "python",
   "nbconvert_exporter": "python",
   "pygments_lexer": "ipython3",
   "version": "3.9.7"
  }
 },
 "nbformat": 4,
 "nbformat_minor": 4
}
